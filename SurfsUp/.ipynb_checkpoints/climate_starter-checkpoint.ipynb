{
 "cells": [
  {
   "cell_type": "code",
   "execution_count": 1,
   "metadata": {},
   "outputs": [],
   "source": [
    "%matplotlib inline\n",
    "from matplotlib import style\n",
    "style.use('fivethirtyeight')\n",
    "import matplotlib.pyplot as plt"
   ]
  },
  {
   "cell_type": "code",
   "execution_count": 2,
   "metadata": {},
   "outputs": [],
   "source": [
    "import numpy as np\n",
    "import pandas as pd\n",
    "import datetime as dt"
   ]
  },
  {
   "cell_type": "markdown",
   "metadata": {},
   "source": [
    "# Reflect Tables into SQLAlchemy ORM"
   ]
  },
  {
   "cell_type": "code",
   "execution_count": 25,
   "metadata": {},
   "outputs": [],
   "source": [
    "# Python SQL toolkit and Object Relational Mapper\n",
    "import sqlalchemy\n",
    "from sqlalchemy.ext.automap import automap_base\n",
    "from sqlalchemy.orm import Session\n",
    "from sqlalchemy import create_engine, func, inspect"
   ]
  },
  {
   "cell_type": "code",
   "execution_count": 26,
   "metadata": {},
   "outputs": [
    {
     "name": "stdout",
     "output_type": "stream",
     "text": [
      "app.py\t\t       hawaii2.sqlite\t\thawaii_stations.csv\r\n",
      "base.py\t\t       hawaii3.sqlite\t\tpythonsqlite.db\r\n",
      "Before_You_Begin.docx  hawaii_measurements.csv\tResources\r\n",
      "climate_starter.ipynb  hawaii.sqlite\t\tvenv\r\n"
     ]
    }
   ],
   "source": [
    "!ls"
   ]
  },
  {
   "cell_type": "code",
   "execution_count": 27,
   "metadata": {},
   "outputs": [],
   "source": [
    "# sqlite3 hawaii.sqlite\n",
    "# SQLite version 3.22.0 2018-01-22 18:45:57\n",
    "# Enter \".help\" for usage hints.\n",
    "# sqlite> .separator \",\"\n",
    "# sqlite> .import hawaii_stations.csv station\n",
    "# sqlite> .import hawaii_measurements.csv measurement\n",
    "# sqlite> .save hawaii.sqlite\n",
    "# Error: database is locked\n",
    "# sqlite> .exit"
   ]
  },
  {
   "cell_type": "code",
   "execution_count": 28,
   "metadata": {},
   "outputs": [
    {
     "name": "stderr",
     "output_type": "stream",
     "text": [
      "/tmp/ipykernel_12999/3402712675.py:14: MovedIn20Warning: The ``declarative_base()`` function is now available as sqlalchemy.orm.declarative_base(). (deprecated since: 2.0) (Background on SQLAlchemy 2.0 at: https://sqlalche.me/e/b8d9)\n",
      "  Base = declarative_base()\n"
     ]
    }
   ],
   "source": [
    "import sqlite3\n",
    "import os\n",
    "from sqlalchemy import create_engine, Column, Integer, String, Double, Date\n",
    "from sqlalchemy.ext.declarative import declarative_base\n",
    "\n",
    "\n",
    "df_fname = 'Resources/hawaii4.sqlite'\n",
    "\n",
    "if not os.path.isfile(df_fname):\n",
    "    db_path = f'sqlite:///{df_fname}'\n",
    "    engine = create_engine(db_path)\n",
    "\n",
    "    # Define the base class for ORM models\n",
    "    Base = declarative_base()\n",
    "\n",
    "\n",
    "    class Station(Base):\n",
    "        __tablename__ = 'station'\n",
    "\n",
    "        index = Column(Integer, primary_key=True)\n",
    "        station = Column(String)\n",
    "        name = Column(String)\n",
    "        latitude = Column(Double)\n",
    "        longitude = Column(Double)\n",
    "        elevation = Column(Double)\n",
    "\n",
    "    class Measurement(Base):\n",
    "        __tablename__ = 'measurement'\n",
    "\n",
    "        index = Column(Integer, primary_key=True)\n",
    "        station = Column(String)\n",
    "        date = Column(String)\n",
    "        prcp = Column(Double)\n",
    "        tobs = Column(Double)\n",
    "\n",
    "    Base.metadata.create_all(engine)\n",
    "\n",
    "    conn = sqlite3.connect(df_fname)\n",
    "\n",
    "\n",
    "    data = pd.read_csv('hawaii_stations.csv')\n",
    "    \n",
    "    data.to_sql(\"station\", conn, if_exists=\"append\")\n",
    "    conn.commit()\n",
    "\n",
    "    data = pd.read_csv('hawaii_measurements.csv')\n",
    "    data['date'] = pd.to_datetime(data['date'])\n",
    "    data.to_sql(\"measurement\", conn, if_exists=\"append\")\n",
    "\n",
    "\n",
    "    conn.commit()\n",
    "    conn.close()\n",
    "    \n",
    "\n",
    "    "
   ]
  },
  {
   "cell_type": "code",
   "execution_count": 29,
   "metadata": {},
   "outputs": [],
   "source": [
    "# create engine to hawaii.sqlite\n",
    "engine = create_engine(f\"sqlite:///{df_fname}\")"
   ]
  },
  {
   "cell_type": "code",
   "execution_count": 30,
   "metadata": {},
   "outputs": [
    {
     "name": "stderr",
     "output_type": "stream",
     "text": [
      "/tmp/ipykernel_12999/4170410572.py:9: SADeprecationWarning: The AutomapBase.prepare.reflect parameter is deprecated and will be removed in a future release.  Reflection is enabled when AutomapBase.prepare.autoload_with is passed.\n",
      "  Base.prepare(engine, reflect=True)\n"
     ]
    }
   ],
   "source": [
    "# reflect an existing database into a new model\n",
    "\n",
    "\n",
    "# reflect the tables\n",
    "\n",
    "# Reflect the tables from the existing database into the MetaData\n",
    "\n",
    "Base = automap_base()\n",
    "Base.prepare(engine, reflect=True)"
   ]
  },
  {
   "cell_type": "code",
   "execution_count": 31,
   "metadata": {},
   "outputs": [
    {
     "data": {
      "text/plain": [
       "['measurement', 'station']"
      ]
     },
     "execution_count": 31,
     "metadata": {},
     "output_type": "execute_result"
    }
   ],
   "source": [
    "Base.classes.keys()"
   ]
  },
  {
   "cell_type": "code",
   "execution_count": 32,
   "metadata": {},
   "outputs": [],
   "source": [
    "# Save references to each table\n",
    "mt = Base.classes.measurement\n",
    "st = Base.classes.station"
   ]
  },
  {
   "cell_type": "code",
   "execution_count": 33,
   "metadata": {},
   "outputs": [],
   "source": [
    "session=Session(engine)"
   ]
  },
  {
   "cell_type": "code",
   "execution_count": 34,
   "metadata": {},
   "outputs": [
    {
     "name": "stdout",
     "output_type": "stream",
     "text": [
      "measurement\n",
      "{'name': 'index', 'type': INTEGER(), 'nullable': False, 'default': None, 'primary_key': 1}\n",
      "{'name': 'station', 'type': VARCHAR(), 'nullable': True, 'default': None, 'primary_key': 0}\n",
      "{'name': 'date', 'type': VARCHAR(), 'nullable': True, 'default': None, 'primary_key': 0}\n",
      "{'name': 'prcp', 'type': DOUBLE(), 'nullable': True, 'default': None, 'primary_key': 0}\n",
      "{'name': 'tobs', 'type': DOUBLE(), 'nullable': True, 'default': None, 'primary_key': 0}\n",
      "-----\n",
      "station\n",
      "{'name': 'index', 'type': INTEGER(), 'nullable': False, 'default': None, 'primary_key': 1}\n",
      "{'name': 'station', 'type': VARCHAR(), 'nullable': True, 'default': None, 'primary_key': 0}\n",
      "{'name': 'name', 'type': VARCHAR(), 'nullable': True, 'default': None, 'primary_key': 0}\n",
      "{'name': 'latitude', 'type': DOUBLE(), 'nullable': True, 'default': None, 'primary_key': 0}\n",
      "{'name': 'longitude', 'type': DOUBLE(), 'nullable': True, 'default': None, 'primary_key': 0}\n",
      "{'name': 'elevation', 'type': DOUBLE(), 'nullable': True, 'default': None, 'primary_key': 0}\n"
     ]
    }
   ],
   "source": [
    "inspector=inspect(engine)\n",
    "\n",
    "# # ##--------------------------------------------\n",
    "m_columns=inspector.get_columns('measurement')\n",
    "\n",
    "s_columns=inspector.get_columns('station')\n",
    "\n",
    "print(\"measurement\")\n",
    "for m in m_columns:\n",
    "    print(m)\n",
    "    # print(m['name'],m['type'])\n",
    "print('-----')\n",
    "print(\"station\")\n",
    "for s in s_columns:\n",
    "    print(s)"
   ]
  },
  {
   "cell_type": "code",
   "execution_count": 35,
   "metadata": {},
   "outputs": [],
   "source": [
    "# Create our session (link) from Python to the DB\n",
    "session=Session(engine)"
   ]
  },
  {
   "cell_type": "markdown",
   "metadata": {},
   "source": [
    "# Exploratory Precipitation Analysis"
   ]
  },
  {
   "cell_type": "code",
   "execution_count": 38,
   "metadata": {},
   "outputs": [
    {
     "data": {
      "text/plain": [
       "datetime.datetime(2017, 8, 23, 0, 0)"
      ]
     },
     "execution_count": 38,
     "metadata": {},
     "output_type": "execute_result"
    }
   ],
   "source": [
    "max_date = session.query(func.max(mt.date)).first()[0]\n",
    "max_date = dt.datetime.strptime(max_date,'%Y-%m-%d %H:%M:%S')\n",
    "max_date"
   ]
  },
  {
   "cell_type": "code",
   "execution_count": 9,
   "metadata": {},
   "outputs": [
    {
     "data": {
      "text/plain": [
       "('2017-08-23',)"
      ]
     },
     "execution_count": 9,
     "metadata": {},
     "output_type": "execute_result"
    }
   ],
   "source": [
    "# Find the most recent date in the data set.\n"
   ]
  },
  {
   "cell_type": "code",
   "execution_count": 46,
   "metadata": {},
   "outputs": [
    {
     "data": {
      "image/png": "[encoded data removed]",
      "text/plain": [
       "<Figure size 800x600 with 1 Axes>"
      ]
     },
     "metadata": {},
     "output_type": "display_data"
    }
   ],
   "source": [
    "year_ago =(max_date - dt.timedelta(weeks=52)).replace(day=max_date.day)\n",
    "\n",
    "year_ago = f'{year_ago.year}-{year_ago.month:02d}-{year_ago.day:02d}'\n",
    "\n",
    "annual_pre_list = session.query(mt.date,mt.prcp).filter(mt.date>year_ago).all()\n",
    "\n",
    "year_list =[pd.to_datetime(x,format='%Y-%m-%d %H:%M:%S') for x,y in annual_pre_list]\n",
    "precip_list = [y for x,y in annual_pre_list]\n",
    "\n",
    "annual_pre_df = pd.DataFrame({\"precipitation\":precip_list},index=year_list).sort_index().dropna()\n",
    "\n",
    "x_ticks=[annual_pre_df.index[0]]\n",
    "for x in range(12):\n",
    "    new_date = x_ticks[-1] + dt.timedelta(days=30)\n",
    "    x_ticks.append(new_date)\n",
    "\n",
    "\n",
    "plt.figure(figsize=(8, 6))\n",
    "plt.bar(annual_pre_df.index,annual_pre_df.precipitation,width=3, label='precipitation')\n",
    "plt.xticks(x_ticks,rotation='vertical')\n",
    "plt.xlabel(\"Date\")\n",
    "plt.ylabel(\"mm\")\n",
    "plt.legend()\n",
    "plt.show()"
   ]
  },
  {
   "cell_type": "code",
   "execution_count": 47,
   "metadata": {},
   "outputs": [
    {
     "data": {
      "text/html": [
       "<div>\n",
       "<style scoped>\n",
       "    .dataframe tbody tr th:only-of-type {\n",
       "        vertical-align: middle;\n",
       "    }\n",
       "\n",
       "    .dataframe tbody tr th {\n",
       "        vertical-align: top;\n",
       "    }\n",
       "\n",
       "    .dataframe thead th {\n",
       "        text-align: right;\n",
       "    }\n",
       "</style>\n",
       "<table border=\"1\" class=\"dataframe\">\n",
       "  <thead>\n",
       "    <tr style=\"text-align: right;\">\n",
       "      <th></th>\n",
       "      <th>precipitation</th>\n",
       "    </tr>\n",
       "  </thead>\n",
       "  <tbody>\n",
       "    <tr>\n",
       "      <th>count</th>\n",
       "      <td>2021.000000</td>\n",
       "    </tr>\n",
       "    <tr>\n",
       "      <th>mean</th>\n",
       "      <td>4.505888</td>\n",
       "    </tr>\n",
       "    <tr>\n",
       "      <th>std</th>\n",
       "      <td>11.713487</td>\n",
       "    </tr>\n",
       "    <tr>\n",
       "      <th>min</th>\n",
       "      <td>0.000000</td>\n",
       "    </tr>\n",
       "    <tr>\n",
       "      <th>25%</th>\n",
       "      <td>0.000000</td>\n",
       "    </tr>\n",
       "    <tr>\n",
       "      <th>50%</th>\n",
       "      <td>0.500000</td>\n",
       "    </tr>\n",
       "    <tr>\n",
       "      <th>75%</th>\n",
       "      <td>3.300000</td>\n",
       "    </tr>\n",
       "    <tr>\n",
       "      <th>max</th>\n",
       "      <td>170.200000</td>\n",
       "    </tr>\n",
       "  </tbody>\n",
       "</table>\n",
       "</div>"
      ],
      "text/plain": [
       "       precipitation\n",
       "count    2021.000000\n",
       "mean        4.505888\n",
       "std        11.713487\n",
       "min         0.000000\n",
       "25%         0.000000\n",
       "50%         0.500000\n",
       "75%         3.300000\n",
       "max       170.200000"
      ]
     },
     "execution_count": 47,
     "metadata": {},
     "output_type": "execute_result"
    }
   ],
   "source": [
    "# Use Pandas to calculate the summary statistics for the precipitation data\n",
    "annual_pre_df.describe()"
   ]
  },
  {
   "cell_type": "markdown",
   "metadata": {},
   "source": [
    "# Exploratory Station Analysis"
   ]
  },
  {
   "cell_type": "code",
   "execution_count": 53,
   "metadata": {},
   "outputs": [
    {
     "data": {
      "text/plain": [
       "9"
      ]
     },
     "execution_count": 53,
     "metadata": {},
     "output_type": "execute_result"
    }
   ],
   "source": [
    "# Design a query to calculate the total number of stations in the dataset\n",
    "station_count = session.query(func.count(Station.index)).scalar()\n",
    "station_count"
   ]
  },
  {
   "cell_type": "code",
   "execution_count": 55,
   "metadata": {},
   "outputs": [
    {
     "name": "stdout",
     "output_type": "stream",
     "text": [
      "Station: USC00519281, Count: 2772\n",
      "Station: USC00519397, Count: 2724\n",
      "Station: USC00513117, Count: 2709\n",
      "Station: USC00519523, Count: 2669\n",
      "Station: USC00516128, Count: 2612\n",
      "Station: USC00514830, Count: 2202\n",
      "Station: USC00511918, Count: 1979\n",
      "Station: USC00517948, Count: 1372\n",
      "Station: USC00518838, Count: 511\n"
     ]
    }
   ],
   "source": [
    "# Design a query to find the most active stations (i.e. which stations have the most rows?)\n",
    "# List the stations and their counts in descending order.\n",
    "results = session.query(Measurement.station, func.count().label('count')).group_by(Measurement.station).order_by(func.count().desc()).all()\n",
    "\n",
    "for station, count in results:\n",
    "    print(f\"Station: {station}, Count: {count}\")\n"
   ]
  },
  {
   "cell_type": "code",
   "execution_count": 59,
   "metadata": {},
   "outputs": [
    {
     "data": {
      "text/plain": [
       "('USC00519281', 2772, 12.2, 29.4, 22.03582251082252)"
      ]
     },
     "execution_count": 59,
     "metadata": {},
     "output_type": "execute_result"
    }
   ],
   "source": [
    "# Using the most active station id from the previous query, calculate the lowest, highest, and average temperature.\n",
    "result = session.query(\n",
    "    Measurement.station,\n",
    "    func.count().label('count'),\n",
    "    func.min(Measurement.tobs).label('temp_min'),\n",
    "    func.max(Measurement.tobs).label('temp_max'),\n",
    "    func.avg(Measurement.tobs).label('temp_avg')\n",
    ").group_by(Measurement.station).order_by(func.count().desc()).first()\n",
    "result"
   ]
  },
  {
   "cell_type": "code",
   "execution_count": 69,
   "metadata": {},
   "outputs": [
    {
     "data": {
      "image/png": "[encoded data removed]",
      "text/plain": [
       "<Figure size 800x600 with 1 Axes>"
      ]
     },
     "metadata": {},
     "output_type": "display_data"
    }
   ],
   "source": [
    "most_active_station = result[0]\n",
    "\n",
    "last_date = dt.datetime.strptime(session.query(mt.date,mt.tobs).filter(mt.station==most_active_station) \\\n",
    "                                     .order_by(mt.date.desc()).first()[0], '%Y-%m-%d %H:%M:%S')\n",
    "first_date = last_date - dt.timedelta(days=365)\n",
    "station_temps_df=pd.DataFrame(session.query(mt.date,mt.tobs).filter(mt.station==most_active_station,\n",
    "                                        mt.date>first_date).all())\n",
    "station_temps_df.set_index('date',inplace=True)\n",
    "\n",
    "station_temps_df.dropna(inplace=True)\n",
    "fig,ax=plt.subplots(figsize=(8,6))\n",
    "ax.hist(top_station_temps_df.tobs, bins=12, label='yobs')\n",
    "plt.legend()\n",
    "plt.xlabel(\"Temperature\")\n",
    "plt.ylabel(\"Frequency\")\n",
    "plt.show()"
   ]
  },
  {
   "cell_type": "markdown",
   "metadata": {},
   "source": [
    "# Close Session"
   ]
  },
  {
   "cell_type": "code",
   "execution_count": 70,
   "metadata": {},
   "outputs": [],
   "source": [
    "# Close Session\n",
    "session.close()"
   ]
  },
  {
   "cell_type": "code",
   "execution_count": null,
   "metadata": {},
   "outputs": [],
   "source": []
  }
 ],
 "metadata": {
  "anaconda-cloud": {},
  "kernel_info": {
   "name": "python3"
  },
  "kernelspec": {
   "display_name": "Python 3 (ipykernel)",
   "language": "python",
   "name": "python3"
  },
  "language_info": {
   "codemirror_mode": {
    "name": "ipython",
    "version": 3
   },
   "file_extension": ".py",
   "mimetype": "text/x-python",
   "name": "python",
   "nbconvert_exporter": "python",
   "pygments_lexer": "ipython3",
   "version": "3.11.4"
  },
  "nteract": {
   "version": "0.12.3"
  },
  "varInspector": {
   "cols": {
    "lenName": 16,
    "lenType": 16,
    "lenVar": 40
   },
   "kernels_config": {
    "python": {
     "delete_cmd_postfix": "",
     "delete_cmd_prefix": "del ",
     "library": "var_list.py",
     "varRefreshCmd": "print(var_dic_list())"
    },
    "r": {
     "delete_cmd_postfix": ") ",
     "delete_cmd_prefix": "rm(",
     "library": "var_list.r",
     "varRefreshCmd": "cat(var_dic_list()) "
    }
   },
   "types_to_exclude": [
    "module",
    "function",
    "builtin_function_or_method",
    "instance",
    "_Feature"
   ],
   "window_display": false
  }
 },
 "nbformat": 4,
 "nbformat_minor": 2
}
